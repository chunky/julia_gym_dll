{
 "cells": [
  {
   "cell_type": "code",
   "execution_count": 1,
   "id": "3aa638df",
   "metadata": {},
   "outputs": [],
   "source": [
    "using ReinforcementLearning\n",
    "using StableRNGs\n",
    "using Flux\n",
    "using Flux.Losses\n",
    "using Distributions\n",
    "using IntervalSets\n",
    "using Plots\n",
    "using Statistics\n",
    "\n",
    "\n",
    "include(\"./DLLGymEnv.jl\")\n"
   ]
  },
  {
   "cell_type": "code",
   "execution_count": 11,
   "id": "10e9b48c",
   "metadata": {
    "scrolled": true
   },
   "outputs": [
    {
     "name": "stdout",
     "output_type": "stream",
     "text": [
      "theta=-1.378576, theta_dt=-0.154728\n",
      "theta=-1.432745, theta_dt=-1.083376\n",
      "theta=-1.520038, theta_dt=-1.745876\n",
      "theta=-1.657176, theta_dt=-2.742760\n",
      "theta=-1.826306, theta_dt=-3.382587\n",
      "theta=-2.023408, theta_dt=-3.942047\n",
      "theta=-2.252140, theta_dt=-4.574634\n",
      "theta=-2.515388, theta_dt=-5.264965\n",
      "theta=-2.806316, theta_dt=-5.818551\n",
      "theta=-3.109272, theta_dt=-6.059128\n"
     ]
    }
   ],
   "source": [
    "env = DLLGymEnv()\n",
    "A = action_space(env)\n",
    "for i in 1:10\n",
    "    env(rand(A), render=true)\n",
    "    is_terminated(env) && break\n",
    "end"
   ]
  },
  {
   "cell_type": "code",
   "execution_count": 10,
   "id": "d75b0944",
   "metadata": {},
   "outputs": [
    {
     "ename": "LoadError",
     "evalue": "MethodError: reducing over an empty collection is not allowed; consider supplying `init` to the reducer",
     "output_type": "error",
     "traceback": [
      "MethodError: reducing over an empty collection is not allowed; consider supplying `init` to the reducer",
      "",
      "Stacktrace:",
      "  [1] reduce_empty(op::Base.MappingRF{Base.ExtremaMap{typeof(identity)}, typeof(Base._extrema_rf)}, #unused#::Type{Int64})",
      "    @ Base ./reduce.jl:348",
      "  [2] reduce_empty_iter",
      "    @ ./reduce.jl:371 [inlined]",
      "  [3] mapreduce_empty_iter(f::Function, op::Function, itr::Vector{Int64}, ItrEltype::Base.HasEltype)",
      "    @ Base ./reduce.jl:367",
      "  [4] _mapreduce",
      "    @ ./reduce.jl:419 [inlined]",
      "  [5] _mapreduce_dim",
      "    @ ./reducedim.jl:365 [inlined]",
      "  [6] #mapreduce#764",
      "    @ ./reducedim.jl:357 [inlined]",
      "  [7] mapreduce",
      "    @ ./reducedim.jl:357 [inlined]",
      "  [8] #_extrema#790",
      "    @ ./reducedim.jl:999 [inlined]",
      "  [9] _extrema",
      "    @ ./reducedim.jl:999 [inlined]",
      " [10] #_extrema#789",
      "    @ ./reducedim.jl:998 [inlined]",
      " [11] _extrema",
      "    @ ./reducedim.jl:998 [inlined]",
      " [12] #extrema#787",
      "    @ ./reducedim.jl:994 [inlined]",
      " [13] extrema",
      "    @ ./reducedim.jl:994 [inlined]",
      " [14] extend_limits(vec::Vector{Int64}, limits::Tuple{Int64, Int64}, scale::typeof(identity))",
      "    @ UnicodePlots ~/.julia/packages/UnicodePlots/Z7FG6/src/common.jl:371",
      " [15] UnicodePlots.Plot(x::Base.OneTo{Int64}, y::Vector{Float64}, z::Nothing, ::Type{UnicodePlots.BrailleCanvas}; title::String, xlabel::String, ylabel::String, zlabel::String, xscale::Symbol, yscale::Symbol, width::Nothing, height::Nothing, border::Symbol, compact::Bool, blend::Bool, xlim::Tuple{Int64, Int64}, ylim::Tuple{Int64, Int64}, margin::Int64, padding::Int64, labels::Bool, unicode_exponent::Bool, colorbar::Bool, colorbar_border::Symbol, colorbar_lim::Tuple{Int64, Int64}, colormap::Nothing, grid::Bool, xticks::Bool, yticks::Bool, min_width::Int64, min_height::Int64, projection::Nothing, axes3d::Bool, kw::Base.Pairs{Symbol, Union{}, Tuple{}, NamedTuple{(), Tuple{}}})",
      "    @ UnicodePlots ~/.julia/packages/UnicodePlots/Z7FG6/src/plot.jl:240",
      " [16] lineplot(x::Base.OneTo{Int64}, y::Vector{Float64}, z::Nothing; canvas::Type, color::Symbol, name::String, head_tail::Nothing, kw::Base.Pairs{Symbol, String, Tuple{Symbol, Symbol, Symbol}, NamedTuple{(:title, :xlabel, :ylabel), Tuple{String, String, String}}})",
      "    @ UnicodePlots ~/.julia/packages/UnicodePlots/Z7FG6/src/interface/lineplot.jl:75",
      " [17] #lineplot#133",
      "    @ ~/.julia/packages/UnicodePlots/Z7FG6/src/interface/lineplot.jl:79 [inlined]",
      " [18] (::TotalRewardPerEpisode)(#unused#::PostExperimentStage, agent::RandomPolicy{Nothing, Random._GLOBAL_RNG}, env::DLLGymEnv)",
      "    @ ReinforcementLearningCore ~/.julia/packages/ReinforcementLearningCore/yeRLW/src/core/hooks.jl:160",
      " [19] _run(policy::RandomPolicy{Nothing, Random._GLOBAL_RNG}, env::DLLGymEnv, stop_condition::StopAfterStep{ProgressMeter.Progress}, hook::TotalRewardPerEpisode)",
      "    @ ReinforcementLearningCore ~/.julia/packages/ReinforcementLearningCore/yeRLW/src/core/run.jl:48",
      " [20] run(policy::RandomPolicy{Nothing, Random._GLOBAL_RNG}, env::DLLGymEnv, stop_condition::StopAfterStep{ProgressMeter.Progress}, hook::TotalRewardPerEpisode)",
      "    @ ReinforcementLearningCore ~/.julia/packages/ReinforcementLearningCore/yeRLW/src/core/run.jl:10",
      " [21] top-level scope",
      "    @ In[10]:2",
      " [22] eval",
      "    @ ./boot.jl:368 [inlined]",
      " [23] include_string(mapexpr::typeof(REPL.softscope), mod::Module, code::String, filename::String)",
      "    @ Base ./loading.jl:1428"
     ]
    }
   ],
   "source": [
    "env = DLLGymEnv();\n",
    "run(RandomPolicy(), env, StopAfterStep(1000), TotalRewardPerEpisode())"
   ]
  }
 ],
 "metadata": {
  "kernelspec": {
   "display_name": "Julia 1.5.3",
   "language": "julia",
   "name": "julia-1.5"
  },
  "language_info": {
   "file_extension": ".jl",
   "mimetype": "application/julia",
   "name": "julia",
   "version": "1.8.0"
  }
 },
 "nbformat": 4,
 "nbformat_minor": 5
}
